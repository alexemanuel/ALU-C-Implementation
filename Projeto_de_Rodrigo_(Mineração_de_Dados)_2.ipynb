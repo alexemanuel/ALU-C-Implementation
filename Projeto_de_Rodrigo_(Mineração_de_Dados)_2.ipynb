{
  "nbformat": 4,
  "nbformat_minor": 0,
  "metadata": {
    "colab": {
      "name": "Projeto de Rodrigo (Mineração de Dados) 2",
      "provenance": [],
      "collapsed_sections": [],
      "include_colab_link": true
    },
    "kernelspec": {
      "name": "python3",
      "display_name": "Python 3"
    },
    "language_info": {
      "name": "python"
    },
    "widgets": {
      "application/vnd.jupyter.widget-state+json": {
        "9d271c1756624e0198212b32f6245dd3": {
          "model_module": "@jupyter-widgets/controls",
          "model_name": "IntProgressModel",
          "model_module_version": "1.5.0",
          "state": {
            "_view_name": "ProgressView",
            "style": "IPY_MODEL_d03887e66eb44e5cb4642762c79d2605",
            "_dom_classes": [],
            "description": "Processing: ",
            "_model_name": "IntProgressModel",
            "bar_style": "",
            "max": 94,
            "_view_module": "@jupyter-widgets/controls",
            "_model_module_version": "1.5.0",
            "value": 94,
            "_view_count": null,
            "_view_module_version": "1.5.0",
            "orientation": "horizontal",
            "min": 0,
            "description_tooltip": null,
            "_model_module": "@jupyter-widgets/controls",
            "layout": "IPY_MODEL_68740579df3342d99ee6393f3258ba53"
          }
        },
        "d03887e66eb44e5cb4642762c79d2605": {
          "model_module": "@jupyter-widgets/controls",
          "model_name": "ProgressStyleModel",
          "model_module_version": "1.5.0",
          "state": {
            "_view_name": "StyleView",
            "_model_name": "ProgressStyleModel",
            "description_width": "",
            "_view_module": "@jupyter-widgets/base",
            "_model_module_version": "1.5.0",
            "_view_count": null,
            "_view_module_version": "1.2.0",
            "bar_color": null,
            "_model_module": "@jupyter-widgets/controls"
          }
        },
        "68740579df3342d99ee6393f3258ba53": {
          "model_module": "@jupyter-widgets/base",
          "model_name": "LayoutModel",
          "model_module_version": "1.2.0",
          "state": {
            "_view_name": "LayoutView",
            "grid_template_rows": null,
            "right": null,
            "justify_content": null,
            "_view_module": "@jupyter-widgets/base",
            "overflow": null,
            "_model_module_version": "1.2.0",
            "_view_count": null,
            "flex_flow": null,
            "width": null,
            "min_width": null,
            "border": null,
            "align_items": null,
            "bottom": null,
            "_model_module": "@jupyter-widgets/base",
            "top": null,
            "grid_column": null,
            "overflow_y": null,
            "overflow_x": null,
            "grid_auto_flow": null,
            "grid_area": null,
            "grid_template_columns": null,
            "flex": null,
            "_model_name": "LayoutModel",
            "justify_items": null,
            "grid_row": null,
            "max_height": null,
            "align_content": null,
            "visibility": null,
            "align_self": null,
            "height": null,
            "min_height": null,
            "padding": null,
            "grid_auto_rows": null,
            "grid_gap": null,
            "max_width": null,
            "order": null,
            "_view_module_version": "1.2.0",
            "grid_template_areas": null,
            "object_position": null,
            "object_fit": null,
            "grid_auto_columns": null,
            "margin": null,
            "display": null,
            "left": null
          }
        }
      }
    }
  },
  "cells": [
    {
      "cell_type": "markdown",
      "metadata": {
        "id": "view-in-github",
        "colab_type": "text"
      },
      "source": [
        "<a href=\"https://colab.research.google.com/github/alexemanuel/ALU-C-Implementation/blob/main/Projeto_de_Rodrigo_(Minera%C3%A7%C3%A3o_de_Dados)_2.ipynb\" target=\"_parent\"><img src=\"https://colab.research.google.com/assets/colab-badge.svg\" alt=\"Open In Colab\"/></a>"
      ]
    },
    {
      "cell_type": "code",
      "source": [
        "from google.colab import drive\n",
        "drive.mount('/content/drive')"
      ],
      "metadata": {
        "colab": {
          "base_uri": "https://localhost:8080/"
        },
        "id": "cxUoAxQDbOvj",
        "outputId": "4d265934-8a16-4068-9efd-073220fc4591"
      },
      "execution_count": 1,
      "outputs": [
        {
          "output_type": "stream",
          "name": "stdout",
          "text": [
            "Mounted at /content/drive\n"
          ]
        }
      ]
    },
    {
      "cell_type": "code",
      "source": [
        "!pip install -q pycaret"
      ],
      "metadata": {
        "id": "gnDpMQSq9m46",
        "colab": {
          "base_uri": "https://localhost:8080/"
        },
        "outputId": "c946a774-8d68-48bc-cc09-f4ae2634dfed"
      },
      "execution_count": 2,
      "outputs": [
        {
          "output_type": "stream",
          "name": "stdout",
          "text": [
            "\u001b[K     |████████████████████████████████| 301 kB 7.4 MB/s \n",
            "\u001b[K     |████████████████████████████████| 1.3 MB 64.4 MB/s \n",
            "\u001b[K     |████████████████████████████████| 2.0 MB 52.0 MB/s \n",
            "\u001b[K     |████████████████████████████████| 86 kB 6.2 MB/s \n",
            "\u001b[K     |████████████████████████████████| 114 kB 69.8 MB/s \n",
            "\u001b[K     |████████████████████████████████| 1.7 MB 58.2 MB/s \n",
            "\u001b[?25h  Installing build dependencies ... \u001b[?25l\u001b[?25hdone\n",
            "  Getting requirements to build wheel ... \u001b[?25l\u001b[?25hdone\n",
            "  Installing backend dependencies ... \u001b[?25l\u001b[?25hdone\n",
            "    Preparing wheel metadata ... \u001b[?25l\u001b[?25hdone\n",
            "\u001b[K     |████████████████████████████████| 15.5 MB 38.0 MB/s \n",
            "\u001b[K     |████████████████████████████████| 6.8 MB 48.5 MB/s \n",
            "\u001b[K     |████████████████████████████████| 56 kB 5.4 MB/s \n",
            "\u001b[K     |████████████████████████████████| 261 kB 60.8 MB/s \n",
            "\u001b[K     |████████████████████████████████| 167 kB 61.0 MB/s \n",
            "\u001b[K     |████████████████████████████████| 63 kB 2.1 MB/s \n",
            "\u001b[K     |████████████████████████████████| 10.9 MB 37.9 MB/s \n",
            "\u001b[K     |████████████████████████████████| 636 kB 43.0 MB/s \n",
            "\u001b[K     |████████████████████████████████| 102 kB 13.8 MB/s \n",
            "\u001b[K     |████████████████████████████████| 3.1 MB 50.9 MB/s \n",
            "\u001b[K     |████████████████████████████████| 675 kB 55.6 MB/s \n",
            "\u001b[K     |████████████████████████████████| 303 kB 77.1 MB/s \n",
            "\u001b[K     |████████████████████████████████| 812 kB 75.9 MB/s \n",
            "\u001b[K     |████████████████████████████████| 25.9 MB 82.9 MB/s \n",
            "\u001b[K     |████████████████████████████████| 1.1 MB 54.3 MB/s \n",
            "\u001b[K     |████████████████████████████████| 180 kB 66.3 MB/s \n",
            "\u001b[K     |████████████████████████████████| 146 kB 49.0 MB/s \n",
            "\u001b[K     |████████████████████████████████| 79 kB 8.7 MB/s \n",
            "\u001b[K     |████████████████████████████████| 58 kB 5.8 MB/s \n",
            "\u001b[K     |████████████████████████████████| 75 kB 4.3 MB/s \n",
            "\u001b[K     |████████████████████████████████| 53 kB 1.8 MB/s \n",
            "\u001b[K     |████████████████████████████████| 63 kB 1.5 MB/s \n",
            "\u001b[K     |████████████████████████████████| 11.3 MB 51.2 MB/s \n",
            "\u001b[K     |████████████████████████████████| 1.7 MB 52.1 MB/s \n",
            "\u001b[?25h  Installing build dependencies ... \u001b[?25l\u001b[?25hdone\n",
            "  Getting requirements to build wheel ... \u001b[?25l\u001b[?25hdone\n",
            "  Installing backend dependencies ... \u001b[?25l\u001b[?25hdone\n",
            "    Preparing wheel metadata ... \u001b[?25l\u001b[?25hdone\n",
            "\u001b[K     |████████████████████████████████| 1.7 MB 48.7 MB/s \n",
            "\u001b[K     |████████████████████████████████| 1.1 MB 40.8 MB/s \n",
            "\u001b[?25h  Building wheel for htmlmin (setup.py) ... \u001b[?25l\u001b[?25hdone\n",
            "  Building wheel for imagehash (setup.py) ... \u001b[?25l\u001b[?25hdone\n",
            "  Building wheel for alembic (setup.py) ... \u001b[?25l\u001b[?25hdone\n",
            "  Building wheel for databricks-cli (setup.py) ... \u001b[?25l\u001b[?25hdone\n",
            "  Building wheel for pyLDAvis (setup.py) ... \u001b[?25l\u001b[?25hdone\n",
            "  Building wheel for pyod (setup.py) ... \u001b[?25l\u001b[?25hdone\n",
            "  Building wheel for umap-learn (setup.py) ... \u001b[?25l\u001b[?25hdone\n",
            "  Building wheel for pynndescent (setup.py) ... \u001b[?25l\u001b[?25hdone\n",
            "\u001b[31mERROR: pip's dependency resolver does not currently take into account all the packages that are installed. This behaviour is the source of the following dependency conflicts.\n",
            "google-colab 1.0.0 requires requests~=2.23.0, but you have requests 2.27.1 which is incompatible.\n",
            "datascience 0.10.6 requires folium==0.2.1, but you have folium 0.8.3 which is incompatible.\n",
            "albumentations 0.1.12 requires imgaug<0.2.7,>=0.2.5, but you have imgaug 0.2.9 which is incompatible.\u001b[0m\n"
          ]
        }
      ]
    },
    {
      "cell_type": "markdown",
      "source": [
        "#__Data Exploration__"
      ],
      "metadata": {
        "id": "3Zv61J8xy619"
      }
    },
    {
      "cell_type": "markdown",
      "source": [
        "###__Visualize the Dataset__"
      ],
      "metadata": {
        "id": "YcH5iRab0N1v"
      }
    },
    {
      "cell_type": "code",
      "execution_count": 3,
      "metadata": {
        "id": "4mpwvRYwaMog"
      },
      "outputs": [],
      "source": [
        "import pandas as pd\n",
        "import numpy as np"
      ]
    },
    {
      "cell_type": "code",
      "source": [
        "df = pd.read_csv('/content/drive/MyDrive/Projeto de Rodrigo (Mineração de Dados) 2/CrabAgePrediction.csv')\n",
        "df"
      ],
      "metadata": {
        "colab": {
          "base_uri": "https://localhost:8080/",
          "height": 424
        },
        "id": "J5oeTqUSbpmP",
        "outputId": "c687d738-8e02-43eb-e2b5-a1f07de097d0"
      },
      "execution_count": 4,
      "outputs": [
        {
          "output_type": "execute_result",
          "data": {
            "text/html": [
              "\n",
              "  <div id=\"df-8c9c6491-89e1-4dc3-afa8-9e79f2253a7a\">\n",
              "    <div class=\"colab-df-container\">\n",
              "      <div>\n",
              "<style scoped>\n",
              "    .dataframe tbody tr th:only-of-type {\n",
              "        vertical-align: middle;\n",
              "    }\n",
              "\n",
              "    .dataframe tbody tr th {\n",
              "        vertical-align: top;\n",
              "    }\n",
              "\n",
              "    .dataframe thead th {\n",
              "        text-align: right;\n",
              "    }\n",
              "</style>\n",
              "<table border=\"1\" class=\"dataframe\">\n",
              "  <thead>\n",
              "    <tr style=\"text-align: right;\">\n",
              "      <th></th>\n",
              "      <th>Sex</th>\n",
              "      <th>Length</th>\n",
              "      <th>Diameter</th>\n",
              "      <th>Height</th>\n",
              "      <th>Weight</th>\n",
              "      <th>Shucked Weight</th>\n",
              "      <th>Viscera Weight</th>\n",
              "      <th>Shell Weight</th>\n",
              "      <th>Age</th>\n",
              "    </tr>\n",
              "  </thead>\n",
              "  <tbody>\n",
              "    <tr>\n",
              "      <th>0</th>\n",
              "      <td>F</td>\n",
              "      <td>1.4375</td>\n",
              "      <td>1.1750</td>\n",
              "      <td>0.4125</td>\n",
              "      <td>24.635715</td>\n",
              "      <td>12.332033</td>\n",
              "      <td>5.584852</td>\n",
              "      <td>6.747181</td>\n",
              "      <td>9</td>\n",
              "    </tr>\n",
              "    <tr>\n",
              "      <th>1</th>\n",
              "      <td>M</td>\n",
              "      <td>0.8875</td>\n",
              "      <td>0.6500</td>\n",
              "      <td>0.2125</td>\n",
              "      <td>5.400580</td>\n",
              "      <td>2.296310</td>\n",
              "      <td>1.374951</td>\n",
              "      <td>1.559222</td>\n",
              "      <td>6</td>\n",
              "    </tr>\n",
              "    <tr>\n",
              "      <th>2</th>\n",
              "      <td>I</td>\n",
              "      <td>1.0375</td>\n",
              "      <td>0.7750</td>\n",
              "      <td>0.2500</td>\n",
              "      <td>7.952035</td>\n",
              "      <td>3.231843</td>\n",
              "      <td>1.601747</td>\n",
              "      <td>2.764076</td>\n",
              "      <td>6</td>\n",
              "    </tr>\n",
              "    <tr>\n",
              "      <th>3</th>\n",
              "      <td>F</td>\n",
              "      <td>1.1750</td>\n",
              "      <td>0.8875</td>\n",
              "      <td>0.2500</td>\n",
              "      <td>13.480187</td>\n",
              "      <td>4.748541</td>\n",
              "      <td>2.282135</td>\n",
              "      <td>5.244657</td>\n",
              "      <td>10</td>\n",
              "    </tr>\n",
              "    <tr>\n",
              "      <th>4</th>\n",
              "      <td>I</td>\n",
              "      <td>0.8875</td>\n",
              "      <td>0.6625</td>\n",
              "      <td>0.2125</td>\n",
              "      <td>6.903103</td>\n",
              "      <td>3.458639</td>\n",
              "      <td>1.488349</td>\n",
              "      <td>1.700970</td>\n",
              "      <td>6</td>\n",
              "    </tr>\n",
              "    <tr>\n",
              "      <th>...</th>\n",
              "      <td>...</td>\n",
              "      <td>...</td>\n",
              "      <td>...</td>\n",
              "      <td>...</td>\n",
              "      <td>...</td>\n",
              "      <td>...</td>\n",
              "      <td>...</td>\n",
              "      <td>...</td>\n",
              "      <td>...</td>\n",
              "    </tr>\n",
              "    <tr>\n",
              "      <th>3888</th>\n",
              "      <td>F</td>\n",
              "      <td>1.4625</td>\n",
              "      <td>1.1375</td>\n",
              "      <td>0.3250</td>\n",
              "      <td>24.819987</td>\n",
              "      <td>11.651645</td>\n",
              "      <td>5.854172</td>\n",
              "      <td>6.378637</td>\n",
              "      <td>8</td>\n",
              "    </tr>\n",
              "    <tr>\n",
              "      <th>3889</th>\n",
              "      <td>F</td>\n",
              "      <td>1.5500</td>\n",
              "      <td>1.2125</td>\n",
              "      <td>0.4375</td>\n",
              "      <td>34.458817</td>\n",
              "      <td>15.450477</td>\n",
              "      <td>7.172423</td>\n",
              "      <td>9.780577</td>\n",
              "      <td>10</td>\n",
              "    </tr>\n",
              "    <tr>\n",
              "      <th>3890</th>\n",
              "      <td>I</td>\n",
              "      <td>0.6250</td>\n",
              "      <td>0.4625</td>\n",
              "      <td>0.1625</td>\n",
              "      <td>2.012815</td>\n",
              "      <td>0.765436</td>\n",
              "      <td>0.524466</td>\n",
              "      <td>0.637864</td>\n",
              "      <td>5</td>\n",
              "    </tr>\n",
              "    <tr>\n",
              "      <th>3891</th>\n",
              "      <td>I</td>\n",
              "      <td>1.0625</td>\n",
              "      <td>0.7750</td>\n",
              "      <td>0.2625</td>\n",
              "      <td>10.347568</td>\n",
              "      <td>4.507570</td>\n",
              "      <td>2.338834</td>\n",
              "      <td>2.976697</td>\n",
              "      <td>6</td>\n",
              "    </tr>\n",
              "    <tr>\n",
              "      <th>3892</th>\n",
              "      <td>I</td>\n",
              "      <td>0.7875</td>\n",
              "      <td>0.6125</td>\n",
              "      <td>0.2125</td>\n",
              "      <td>4.068153</td>\n",
              "      <td>1.502524</td>\n",
              "      <td>1.346601</td>\n",
              "      <td>1.417475</td>\n",
              "      <td>8</td>\n",
              "    </tr>\n",
              "  </tbody>\n",
              "</table>\n",
              "<p>3893 rows × 9 columns</p>\n",
              "</div>\n",
              "      <button class=\"colab-df-convert\" onclick=\"convertToInteractive('df-8c9c6491-89e1-4dc3-afa8-9e79f2253a7a')\"\n",
              "              title=\"Convert this dataframe to an interactive table.\"\n",
              "              style=\"display:none;\">\n",
              "        \n",
              "  <svg xmlns=\"http://www.w3.org/2000/svg\" height=\"24px\"viewBox=\"0 0 24 24\"\n",
              "       width=\"24px\">\n",
              "    <path d=\"M0 0h24v24H0V0z\" fill=\"none\"/>\n",
              "    <path d=\"M18.56 5.44l.94 2.06.94-2.06 2.06-.94-2.06-.94-.94-2.06-.94 2.06-2.06.94zm-11 1L8.5 8.5l.94-2.06 2.06-.94-2.06-.94L8.5 2.5l-.94 2.06-2.06.94zm10 10l.94 2.06.94-2.06 2.06-.94-2.06-.94-.94-2.06-.94 2.06-2.06.94z\"/><path d=\"M17.41 7.96l-1.37-1.37c-.4-.4-.92-.59-1.43-.59-.52 0-1.04.2-1.43.59L10.3 9.45l-7.72 7.72c-.78.78-.78 2.05 0 2.83L4 21.41c.39.39.9.59 1.41.59.51 0 1.02-.2 1.41-.59l7.78-7.78 2.81-2.81c.8-.78.8-2.07 0-2.86zM5.41 20L4 18.59l7.72-7.72 1.47 1.35L5.41 20z\"/>\n",
              "  </svg>\n",
              "      </button>\n",
              "      \n",
              "  <style>\n",
              "    .colab-df-container {\n",
              "      display:flex;\n",
              "      flex-wrap:wrap;\n",
              "      gap: 12px;\n",
              "    }\n",
              "\n",
              "    .colab-df-convert {\n",
              "      background-color: #E8F0FE;\n",
              "      border: none;\n",
              "      border-radius: 50%;\n",
              "      cursor: pointer;\n",
              "      display: none;\n",
              "      fill: #1967D2;\n",
              "      height: 32px;\n",
              "      padding: 0 0 0 0;\n",
              "      width: 32px;\n",
              "    }\n",
              "\n",
              "    .colab-df-convert:hover {\n",
              "      background-color: #E2EBFA;\n",
              "      box-shadow: 0px 1px 2px rgba(60, 64, 67, 0.3), 0px 1px 3px 1px rgba(60, 64, 67, 0.15);\n",
              "      fill: #174EA6;\n",
              "    }\n",
              "\n",
              "    [theme=dark] .colab-df-convert {\n",
              "      background-color: #3B4455;\n",
              "      fill: #D2E3FC;\n",
              "    }\n",
              "\n",
              "    [theme=dark] .colab-df-convert:hover {\n",
              "      background-color: #434B5C;\n",
              "      box-shadow: 0px 1px 3px 1px rgba(0, 0, 0, 0.15);\n",
              "      filter: drop-shadow(0px 1px 2px rgba(0, 0, 0, 0.3));\n",
              "      fill: #FFFFFF;\n",
              "    }\n",
              "  </style>\n",
              "\n",
              "      <script>\n",
              "        const buttonEl =\n",
              "          document.querySelector('#df-8c9c6491-89e1-4dc3-afa8-9e79f2253a7a button.colab-df-convert');\n",
              "        buttonEl.style.display =\n",
              "          google.colab.kernel.accessAllowed ? 'block' : 'none';\n",
              "\n",
              "        async function convertToInteractive(key) {\n",
              "          const element = document.querySelector('#df-8c9c6491-89e1-4dc3-afa8-9e79f2253a7a');\n",
              "          const dataTable =\n",
              "            await google.colab.kernel.invokeFunction('convertToInteractive',\n",
              "                                                     [key], {});\n",
              "          if (!dataTable) return;\n",
              "\n",
              "          const docLinkHtml = 'Like what you see? Visit the ' +\n",
              "            '<a target=\"_blank\" href=https://colab.research.google.com/notebooks/data_table.ipynb>data table notebook</a>'\n",
              "            + ' to learn more about interactive tables.';\n",
              "          element.innerHTML = '';\n",
              "          dataTable['output_type'] = 'display_data';\n",
              "          await google.colab.output.renderOutput(dataTable, element);\n",
              "          const docLink = document.createElement('div');\n",
              "          docLink.innerHTML = docLinkHtml;\n",
              "          element.appendChild(docLink);\n",
              "        }\n",
              "      </script>\n",
              "    </div>\n",
              "  </div>\n",
              "  "
            ],
            "text/plain": [
              "     Sex  Length  Diameter  ...  Viscera Weight  Shell Weight  Age\n",
              "0      F  1.4375    1.1750  ...        5.584852      6.747181    9\n",
              "1      M  0.8875    0.6500  ...        1.374951      1.559222    6\n",
              "2      I  1.0375    0.7750  ...        1.601747      2.764076    6\n",
              "3      F  1.1750    0.8875  ...        2.282135      5.244657   10\n",
              "4      I  0.8875    0.6625  ...        1.488349      1.700970    6\n",
              "...   ..     ...       ...  ...             ...           ...  ...\n",
              "3888   F  1.4625    1.1375  ...        5.854172      6.378637    8\n",
              "3889   F  1.5500    1.2125  ...        7.172423      9.780577   10\n",
              "3890   I  0.6250    0.4625  ...        0.524466      0.637864    5\n",
              "3891   I  1.0625    0.7750  ...        2.338834      2.976697    6\n",
              "3892   I  0.7875    0.6125  ...        1.346601      1.417475    8\n",
              "\n",
              "[3893 rows x 9 columns]"
            ]
          },
          "metadata": {},
          "execution_count": 4
        }
      ]
    },
    {
      "cell_type": "code",
      "source": [
        "df.shape"
      ],
      "metadata": {
        "id": "1Wm2WRUlcRFk",
        "colab": {
          "base_uri": "https://localhost:8080/"
        },
        "outputId": "6cc45407-473a-44ae-e4d4-9cef179408bb"
      },
      "execution_count": 5,
      "outputs": [
        {
          "output_type": "execute_result",
          "data": {
            "text/plain": [
              "(3893, 9)"
            ]
          },
          "metadata": {},
          "execution_count": 5
        }
      ]
    },
    {
      "cell_type": "code",
      "source": [
        "df.columns"
      ],
      "metadata": {
        "id": "gZZokOCLzL7U",
        "colab": {
          "base_uri": "https://localhost:8080/"
        },
        "outputId": "07dd3936-43a8-4151-d593-4eb72b8c8400"
      },
      "execution_count": 6,
      "outputs": [
        {
          "output_type": "execute_result",
          "data": {
            "text/plain": [
              "Index(['Sex', 'Length', 'Diameter', 'Height', 'Weight', 'Shucked Weight',\n",
              "       'Viscera Weight', 'Shell Weight', 'Age'],\n",
              "      dtype='object')"
            ]
          },
          "metadata": {},
          "execution_count": 6
        }
      ]
    },
    {
      "cell_type": "code",
      "source": [
        "df.dtypes"
      ],
      "metadata": {
        "id": "4jzFjnFP0EjJ",
        "colab": {
          "base_uri": "https://localhost:8080/"
        },
        "outputId": "ed6b0d9f-06a7-4c35-f687-0e8ffa1b8c20"
      },
      "execution_count": 7,
      "outputs": [
        {
          "output_type": "execute_result",
          "data": {
            "text/plain": [
              "Sex                object\n",
              "Length            float64\n",
              "Diameter          float64\n",
              "Height            float64\n",
              "Weight            float64\n",
              "Shucked Weight    float64\n",
              "Viscera Weight    float64\n",
              "Shell Weight      float64\n",
              "Age                 int64\n",
              "dtype: object"
            ]
          },
          "metadata": {},
          "execution_count": 7
        }
      ]
    },
    {
      "cell_type": "code",
      "source": [
        "df.describe()"
      ],
      "metadata": {
        "id": "HtvVEVKV1Ve9",
        "colab": {
          "base_uri": "https://localhost:8080/",
          "height": 300
        },
        "outputId": "7063d678-c089-4066-a516-b9c4bb001f47"
      },
      "execution_count": 8,
      "outputs": [
        {
          "output_type": "execute_result",
          "data": {
            "text/html": [
              "\n",
              "  <div id=\"df-a08673e7-d053-49d4-997b-d59045c55558\">\n",
              "    <div class=\"colab-df-container\">\n",
              "      <div>\n",
              "<style scoped>\n",
              "    .dataframe tbody tr th:only-of-type {\n",
              "        vertical-align: middle;\n",
              "    }\n",
              "\n",
              "    .dataframe tbody tr th {\n",
              "        vertical-align: top;\n",
              "    }\n",
              "\n",
              "    .dataframe thead th {\n",
              "        text-align: right;\n",
              "    }\n",
              "</style>\n",
              "<table border=\"1\" class=\"dataframe\">\n",
              "  <thead>\n",
              "    <tr style=\"text-align: right;\">\n",
              "      <th></th>\n",
              "      <th>Length</th>\n",
              "      <th>Diameter</th>\n",
              "      <th>Height</th>\n",
              "      <th>Weight</th>\n",
              "      <th>Shucked Weight</th>\n",
              "      <th>Viscera Weight</th>\n",
              "      <th>Shell Weight</th>\n",
              "      <th>Age</th>\n",
              "    </tr>\n",
              "  </thead>\n",
              "  <tbody>\n",
              "    <tr>\n",
              "      <th>count</th>\n",
              "      <td>3893.000000</td>\n",
              "      <td>3893.000000</td>\n",
              "      <td>3893.000000</td>\n",
              "      <td>3893.000000</td>\n",
              "      <td>3893.000000</td>\n",
              "      <td>3893.000000</td>\n",
              "      <td>3893.000000</td>\n",
              "      <td>3893.000000</td>\n",
              "    </tr>\n",
              "    <tr>\n",
              "      <th>mean</th>\n",
              "      <td>1.311306</td>\n",
              "      <td>1.020893</td>\n",
              "      <td>0.349374</td>\n",
              "      <td>23.567275</td>\n",
              "      <td>10.207342</td>\n",
              "      <td>5.136546</td>\n",
              "      <td>6.795844</td>\n",
              "      <td>9.954791</td>\n",
              "    </tr>\n",
              "    <tr>\n",
              "      <th>std</th>\n",
              "      <td>0.300431</td>\n",
              "      <td>0.248233</td>\n",
              "      <td>0.104976</td>\n",
              "      <td>13.891201</td>\n",
              "      <td>6.275275</td>\n",
              "      <td>3.104133</td>\n",
              "      <td>3.943392</td>\n",
              "      <td>3.220967</td>\n",
              "    </tr>\n",
              "    <tr>\n",
              "      <th>min</th>\n",
              "      <td>0.187500</td>\n",
              "      <td>0.137500</td>\n",
              "      <td>0.000000</td>\n",
              "      <td>0.056699</td>\n",
              "      <td>0.028349</td>\n",
              "      <td>0.014175</td>\n",
              "      <td>0.042524</td>\n",
              "      <td>1.000000</td>\n",
              "    </tr>\n",
              "    <tr>\n",
              "      <th>25%</th>\n",
              "      <td>1.125000</td>\n",
              "      <td>0.875000</td>\n",
              "      <td>0.287500</td>\n",
              "      <td>12.672227</td>\n",
              "      <td>5.343881</td>\n",
              "      <td>2.664853</td>\n",
              "      <td>3.713785</td>\n",
              "      <td>8.000000</td>\n",
              "    </tr>\n",
              "    <tr>\n",
              "      <th>50%</th>\n",
              "      <td>1.362500</td>\n",
              "      <td>1.062500</td>\n",
              "      <td>0.362500</td>\n",
              "      <td>22.792998</td>\n",
              "      <td>9.539607</td>\n",
              "      <td>4.861939</td>\n",
              "      <td>6.662132</td>\n",
              "      <td>10.000000</td>\n",
              "    </tr>\n",
              "    <tr>\n",
              "      <th>75%</th>\n",
              "      <td>1.537500</td>\n",
              "      <td>1.200000</td>\n",
              "      <td>0.412500</td>\n",
              "      <td>32.786197</td>\n",
              "      <td>14.273973</td>\n",
              "      <td>7.200773</td>\n",
              "      <td>9.355335</td>\n",
              "      <td>11.000000</td>\n",
              "    </tr>\n",
              "    <tr>\n",
              "      <th>max</th>\n",
              "      <td>2.037500</td>\n",
              "      <td>1.625000</td>\n",
              "      <td>2.825000</td>\n",
              "      <td>80.101512</td>\n",
              "      <td>42.184056</td>\n",
              "      <td>21.545620</td>\n",
              "      <td>28.491247</td>\n",
              "      <td>29.000000</td>\n",
              "    </tr>\n",
              "  </tbody>\n",
              "</table>\n",
              "</div>\n",
              "      <button class=\"colab-df-convert\" onclick=\"convertToInteractive('df-a08673e7-d053-49d4-997b-d59045c55558')\"\n",
              "              title=\"Convert this dataframe to an interactive table.\"\n",
              "              style=\"display:none;\">\n",
              "        \n",
              "  <svg xmlns=\"http://www.w3.org/2000/svg\" height=\"24px\"viewBox=\"0 0 24 24\"\n",
              "       width=\"24px\">\n",
              "    <path d=\"M0 0h24v24H0V0z\" fill=\"none\"/>\n",
              "    <path d=\"M18.56 5.44l.94 2.06.94-2.06 2.06-.94-2.06-.94-.94-2.06-.94 2.06-2.06.94zm-11 1L8.5 8.5l.94-2.06 2.06-.94-2.06-.94L8.5 2.5l-.94 2.06-2.06.94zm10 10l.94 2.06.94-2.06 2.06-.94-2.06-.94-.94-2.06-.94 2.06-2.06.94z\"/><path d=\"M17.41 7.96l-1.37-1.37c-.4-.4-.92-.59-1.43-.59-.52 0-1.04.2-1.43.59L10.3 9.45l-7.72 7.72c-.78.78-.78 2.05 0 2.83L4 21.41c.39.39.9.59 1.41.59.51 0 1.02-.2 1.41-.59l7.78-7.78 2.81-2.81c.8-.78.8-2.07 0-2.86zM5.41 20L4 18.59l7.72-7.72 1.47 1.35L5.41 20z\"/>\n",
              "  </svg>\n",
              "      </button>\n",
              "      \n",
              "  <style>\n",
              "    .colab-df-container {\n",
              "      display:flex;\n",
              "      flex-wrap:wrap;\n",
              "      gap: 12px;\n",
              "    }\n",
              "\n",
              "    .colab-df-convert {\n",
              "      background-color: #E8F0FE;\n",
              "      border: none;\n",
              "      border-radius: 50%;\n",
              "      cursor: pointer;\n",
              "      display: none;\n",
              "      fill: #1967D2;\n",
              "      height: 32px;\n",
              "      padding: 0 0 0 0;\n",
              "      width: 32px;\n",
              "    }\n",
              "\n",
              "    .colab-df-convert:hover {\n",
              "      background-color: #E2EBFA;\n",
              "      box-shadow: 0px 1px 2px rgba(60, 64, 67, 0.3), 0px 1px 3px 1px rgba(60, 64, 67, 0.15);\n",
              "      fill: #174EA6;\n",
              "    }\n",
              "\n",
              "    [theme=dark] .colab-df-convert {\n",
              "      background-color: #3B4455;\n",
              "      fill: #D2E3FC;\n",
              "    }\n",
              "\n",
              "    [theme=dark] .colab-df-convert:hover {\n",
              "      background-color: #434B5C;\n",
              "      box-shadow: 0px 1px 3px 1px rgba(0, 0, 0, 0.15);\n",
              "      filter: drop-shadow(0px 1px 2px rgba(0, 0, 0, 0.3));\n",
              "      fill: #FFFFFF;\n",
              "    }\n",
              "  </style>\n",
              "\n",
              "      <script>\n",
              "        const buttonEl =\n",
              "          document.querySelector('#df-a08673e7-d053-49d4-997b-d59045c55558 button.colab-df-convert');\n",
              "        buttonEl.style.display =\n",
              "          google.colab.kernel.accessAllowed ? 'block' : 'none';\n",
              "\n",
              "        async function convertToInteractive(key) {\n",
              "          const element = document.querySelector('#df-a08673e7-d053-49d4-997b-d59045c55558');\n",
              "          const dataTable =\n",
              "            await google.colab.kernel.invokeFunction('convertToInteractive',\n",
              "                                                     [key], {});\n",
              "          if (!dataTable) return;\n",
              "\n",
              "          const docLinkHtml = 'Like what you see? Visit the ' +\n",
              "            '<a target=\"_blank\" href=https://colab.research.google.com/notebooks/data_table.ipynb>data table notebook</a>'\n",
              "            + ' to learn more about interactive tables.';\n",
              "          element.innerHTML = '';\n",
              "          dataTable['output_type'] = 'display_data';\n",
              "          await google.colab.output.renderOutput(dataTable, element);\n",
              "          const docLink = document.createElement('div');\n",
              "          docLink.innerHTML = docLinkHtml;\n",
              "          element.appendChild(docLink);\n",
              "        }\n",
              "      </script>\n",
              "    </div>\n",
              "  </div>\n",
              "  "
            ],
            "text/plain": [
              "            Length     Diameter  ...  Shell Weight          Age\n",
              "count  3893.000000  3893.000000  ...   3893.000000  3893.000000\n",
              "mean      1.311306     1.020893  ...      6.795844     9.954791\n",
              "std       0.300431     0.248233  ...      3.943392     3.220967\n",
              "min       0.187500     0.137500  ...      0.042524     1.000000\n",
              "25%       1.125000     0.875000  ...      3.713785     8.000000\n",
              "50%       1.362500     1.062500  ...      6.662132    10.000000\n",
              "75%       1.537500     1.200000  ...      9.355335    11.000000\n",
              "max       2.037500     1.625000  ...     28.491247    29.000000\n",
              "\n",
              "[8 rows x 8 columns]"
            ]
          },
          "metadata": {},
          "execution_count": 8
        }
      ]
    },
    {
      "cell_type": "markdown",
      "source": [
        "###__Missing Values__"
      ],
      "metadata": {
        "id": "6v5cQGJny_VN"
      }
    },
    {
      "cell_type": "code",
      "source": [
        "import missingno as msno"
      ],
      "metadata": {
        "id": "IlgSTqrUdVCS"
      },
      "execution_count": 9,
      "outputs": []
    },
    {
      "cell_type": "code",
      "source": [
        "ax = msno.matrix(df.sample(500))"
      ],
      "metadata": {
        "id": "OGm9S081dX6w",
        "colab": {
          "base_uri": "https://localhost:8080/",
          "height": 527
        },
        "outputId": "41f0a163-6dbc-4957-cb9a-1fda839b15a1"
      },
      "execution_count": 10,
      "outputs": [
        {
          "output_type": "display_data",
          "data": {
            "image/png": "[encoded data removed]",
            "text/plain": [
              "<Figure size 1800x720 with 2 Axes>"
            ]
          },
          "metadata": {
            "needs_background": "light"
          }
        }
      ]
    },
    {
      "cell_type": "markdown",
      "source": [
        "###__Data Distribution__"
      ],
      "metadata": {
        "id": "Ien7QZPU1wlh"
      }
    },
    {
      "cell_type": "code",
      "source": [
        "import seaborn as sns\n",
        "import matplotlib.pyplot as plt"
      ],
      "metadata": {
        "id": "CErumvFZ13cu"
      },
      "execution_count": 11,
      "outputs": []
    },
    {
      "cell_type": "code",
      "source": [
        "fig, ax = plt.subplots(figsize = (20,16))\n",
        "sns.boxplot(data=df)"
      ],
      "metadata": {
        "id": "OHK9uqxx15bf",
        "colab": {
          "base_uri": "https://localhost:8080/",
          "height": 897
        },
        "outputId": "6931ea32-5dcd-4ab0-b912-fbe85dc70597"
      },
      "execution_count": 12,
      "outputs": [
        {
          "output_type": "execute_result",
          "data": {
            "text/plain": [
              "<matplotlib.axes._subplots.AxesSubplot at 0x7f3dcce670d0>"
            ]
          },
          "metadata": {},
          "execution_count": 12
        },
        {
          "output_type": "display_data",
          "data": {
            "image/png": "[encoded data removed]",
            "text/plain": [
              "<Figure size 1440x1152 with 1 Axes>"
            ]
          },
          "metadata": {
            "needs_background": "light"
          }
        }
      ]
    },
    {
      "cell_type": "markdown",
      "source": [
        "#__Preprocessing__"
      ],
      "metadata": {
        "id": "2Wa6vuSN0VDw"
      }
    },
    {
      "cell_type": "markdown",
      "source": [
        "###__Encode Sex column__"
      ],
      "metadata": {
        "id": "fFg5jSY40zq3"
      }
    },
    {
      "cell_type": "code",
      "source": [
        "df.Sex.unique()"
      ],
      "metadata": {
        "id": "DG2gEj-9d9AU",
        "colab": {
          "base_uri": "https://localhost:8080/"
        },
        "outputId": "427cb975-0afc-4fcc-e131-c571bc924f2e"
      },
      "execution_count": 13,
      "outputs": [
        {
          "output_type": "execute_result",
          "data": {
            "text/plain": [
              "array(['F', 'M', 'I'], dtype=object)"
            ]
          },
          "metadata": {},
          "execution_count": 13
        }
      ]
    },
    {
      "cell_type": "code",
      "source": [
        "ordered_label = df.Sex.unique()\n",
        "ordinal_label = {k:i for i, k in enumerate(ordered_label)}\n",
        "print(ordinal_label)\n",
        "\n",
        "df.Sex = df.Sex.map(ordinal_label)"
      ],
      "metadata": {
        "id": "kdHQ-mwXeknI",
        "colab": {
          "base_uri": "https://localhost:8080/"
        },
        "outputId": "29ba2097-4695-45eb-8cf8-bb46fc345f0d"
      },
      "execution_count": 14,
      "outputs": [
        {
          "output_type": "stream",
          "name": "stdout",
          "text": [
            "{'F': 0, 'M': 1, 'I': 2}\n"
          ]
        }
      ]
    },
    {
      "cell_type": "markdown",
      "source": [
        "###__Limit Outlier Values__"
      ],
      "metadata": {
        "id": "gpXxVCIe2Ad7"
      }
    },
    {
      "cell_type": "code",
      "source": [
        "def clip_outliers(array):\n",
        "  q1 = np.percentile(array,25)\n",
        "  q2 = np.percentile(array,75)\n",
        "\n",
        "  limit = 1.5 * (q1 - q2)\n",
        "  upper_limit = q1 - limit\n",
        "  lower_limit = q2 + limit\n",
        "\n",
        "  clipped_data = np.clip(array, lower_limit,upper_limit)\n",
        "  return clipped_data"
      ],
      "metadata": {
        "id": "VUfLOSBJ0JWJ"
      },
      "execution_count": 15,
      "outputs": []
    },
    {
      "cell_type": "code",
      "source": [
        "for column in df:\n",
        "  df[column] = clip_outliers(df[column])"
      ],
      "metadata": {
        "id": "sBdSKZhz13Kc"
      },
      "execution_count": 16,
      "outputs": []
    },
    {
      "cell_type": "code",
      "source": [
        "df.Length.plot.box()"
      ],
      "metadata": {
        "id": "eoHvJ_Jb0-jN",
        "colab": {
          "base_uri": "https://localhost:8080/",
          "height": 283
        },
        "outputId": "5c77de1b-bdc0-4d1a-d035-875570a18f6b"
      },
      "execution_count": 17,
      "outputs": [
        {
          "output_type": "execute_result",
          "data": {
            "text/plain": [
              "<matplotlib.axes._subplots.AxesSubplot at 0x7f3dd5704d10>"
            ]
          },
          "metadata": {},
          "execution_count": 17
        },
        {
          "output_type": "display_data",
          "data": {
            "image/png": "[encoded data removed]",
            "text/plain": [
              "<Figure size 432x288 with 1 Axes>"
            ]
          },
          "metadata": {
            "needs_background": "light"
          }
        }
      ]
    },
    {
      "cell_type": "markdown",
      "source": [
        "###__Remove Duplicated Values__"
      ],
      "metadata": {
        "id": "zAcetmNZ2Rh_"
      }
    },
    {
      "cell_type": "code",
      "source": [
        "# Number of duplicated values\n",
        "df.duplicated().sum()"
      ],
      "metadata": {
        "id": "xid-7V1xwxCi",
        "colab": {
          "base_uri": "https://localhost:8080/"
        },
        "outputId": "5add518c-a2c6-47da-d525-2d3d329bfd3f"
      },
      "execution_count": 18,
      "outputs": [
        {
          "output_type": "execute_result",
          "data": {
            "text/plain": [
              "165"
            ]
          },
          "metadata": {},
          "execution_count": 18
        }
      ]
    },
    {
      "cell_type": "code",
      "source": [
        "df = df.drop_duplicates()"
      ],
      "metadata": {
        "id": "NR8eOeF8syuP"
      },
      "execution_count": 19,
      "outputs": []
    },
    {
      "cell_type": "markdown",
      "source": [
        "#__Train and Evaluation__"
      ],
      "metadata": {
        "id": "tnlXY-DN2iUd"
      }
    },
    {
      "cell_type": "code",
      "source": [
        "from pycaret.regression import setup\n",
        "from pycaret.regression import compare_models"
      ],
      "metadata": {
        "id": "xjyf72Fuxhuz"
      },
      "execution_count": 20,
      "outputs": []
    },
    {
      "cell_type": "code",
      "source": [
        "setup(data=df, target='Age', silent=True, verbose=False, imputation_type='iterative')\n",
        "best_models = compare_models(n_select=2)"
      ],
      "metadata": {
        "id": "Wu2eKhiX_IAo",
        "colab": {
          "base_uri": "https://localhost:8080/",
          "height": 614,
          "referenced_widgets": [
            "9d271c1756624e0198212b32f6245dd3",
            "d03887e66eb44e5cb4642762c79d2605",
            "68740579df3342d99ee6393f3258ba53"
          ]
        },
        "outputId": "b16c1982-74f1-4aab-de1d-c8bc926cc260"
      },
      "execution_count": 21,
      "outputs": [
        {
          "output_type": "display_data",
          "data": {
            "text/html": [
              "\n",
              "  <div id=\"df-c302d23e-5514-47a7-8273-63e118a9189f\">\n",
              "    <div class=\"colab-df-container\">\n",
              "      <div>\n",
              "<style scoped>\n",
              "    .dataframe tbody tr th:only-of-type {\n",
              "        vertical-align: middle;\n",
              "    }\n",
              "\n",
              "    .dataframe tbody tr th {\n",
              "        vertical-align: top;\n",
              "    }\n",
              "\n",
              "    .dataframe thead th {\n",
              "        text-align: right;\n",
              "    }\n",
              "</style>\n",
              "<table border=\"1\" class=\"dataframe\">\n",
              "  <thead>\n",
              "    <tr style=\"text-align: right;\">\n",
              "      <th></th>\n",
              "      <th>Model</th>\n",
              "      <th>MAE</th>\n",
              "      <th>MSE</th>\n",
              "      <th>RMSE</th>\n",
              "      <th>R2</th>\n",
              "      <th>RMSLE</th>\n",
              "      <th>MAPE</th>\n",
              "      <th>TT (Sec)</th>\n",
              "    </tr>\n",
              "  </thead>\n",
              "  <tbody>\n",
              "    <tr>\n",
              "      <th>gbr</th>\n",
              "      <td>Gradient Boosting Regressor</td>\n",
              "      <td>1.0336</td>\n",
              "      <td>1.6952</td>\n",
              "      <td>1.3005</td>\n",
              "      <td>0.5688</td>\n",
              "      <td>0.1225</td>\n",
              "      <td>0.1098</td>\n",
              "      <td>0.286</td>\n",
              "    </tr>\n",
              "    <tr>\n",
              "      <th>lightgbm</th>\n",
              "      <td>Light Gradient Boosting Machine</td>\n",
              "      <td>1.0433</td>\n",
              "      <td>1.7805</td>\n",
              "      <td>1.3323</td>\n",
              "      <td>0.5470</td>\n",
              "      <td>0.1255</td>\n",
              "      <td>0.1107</td>\n",
              "      <td>0.116</td>\n",
              "    </tr>\n",
              "    <tr>\n",
              "      <th>rf</th>\n",
              "      <td>Random Forest Regressor</td>\n",
              "      <td>1.0527</td>\n",
              "      <td>1.7919</td>\n",
              "      <td>1.3370</td>\n",
              "      <td>0.5440</td>\n",
              "      <td>0.1261</td>\n",
              "      <td>0.1118</td>\n",
              "      <td>1.027</td>\n",
              "    </tr>\n",
              "    <tr>\n",
              "      <th>lr</th>\n",
              "      <td>Linear Regression</td>\n",
              "      <td>1.0933</td>\n",
              "      <td>1.8425</td>\n",
              "      <td>1.3564</td>\n",
              "      <td>0.5313</td>\n",
              "      <td>0.1286</td>\n",
              "      <td>0.1170</td>\n",
              "      <td>0.287</td>\n",
              "    </tr>\n",
              "    <tr>\n",
              "      <th>lar</th>\n",
              "      <td>Least Angle Regression</td>\n",
              "      <td>1.0933</td>\n",
              "      <td>1.8425</td>\n",
              "      <td>1.3564</td>\n",
              "      <td>0.5313</td>\n",
              "      <td>0.1286</td>\n",
              "      <td>0.1170</td>\n",
              "      <td>0.014</td>\n",
              "    </tr>\n",
              "    <tr>\n",
              "      <th>br</th>\n",
              "      <td>Bayesian Ridge</td>\n",
              "      <td>1.0939</td>\n",
              "      <td>1.8439</td>\n",
              "      <td>1.3570</td>\n",
              "      <td>0.5310</td>\n",
              "      <td>0.1287</td>\n",
              "      <td>0.1171</td>\n",
              "      <td>0.013</td>\n",
              "    </tr>\n",
              "    <tr>\n",
              "      <th>et</th>\n",
              "      <td>Extra Trees Regressor</td>\n",
              "      <td>1.0667</td>\n",
              "      <td>1.8431</td>\n",
              "      <td>1.3559</td>\n",
              "      <td>0.5309</td>\n",
              "      <td>0.1279</td>\n",
              "      <td>0.1133</td>\n",
              "      <td>0.699</td>\n",
              "    </tr>\n",
              "    <tr>\n",
              "      <th>ridge</th>\n",
              "      <td>Ridge Regression</td>\n",
              "      <td>1.0943</td>\n",
              "      <td>1.8449</td>\n",
              "      <td>1.3573</td>\n",
              "      <td>0.5307</td>\n",
              "      <td>0.1287</td>\n",
              "      <td>0.1171</td>\n",
              "      <td>0.012</td>\n",
              "    </tr>\n",
              "    <tr>\n",
              "      <th>huber</th>\n",
              "      <td>Huber Regressor</td>\n",
              "      <td>1.0765</td>\n",
              "      <td>1.8703</td>\n",
              "      <td>1.3667</td>\n",
              "      <td>0.5241</td>\n",
              "      <td>0.1283</td>\n",
              "      <td>0.1130</td>\n",
              "      <td>0.063</td>\n",
              "    </tr>\n",
              "    <tr>\n",
              "      <th>knn</th>\n",
              "      <td>K Neighbors Regressor</td>\n",
              "      <td>1.0687</td>\n",
              "      <td>1.9095</td>\n",
              "      <td>1.3801</td>\n",
              "      <td>0.5132</td>\n",
              "      <td>0.1301</td>\n",
              "      <td>0.1132</td>\n",
              "      <td>0.063</td>\n",
              "    </tr>\n",
              "    <tr>\n",
              "      <th>ada</th>\n",
              "      <td>AdaBoost Regressor</td>\n",
              "      <td>1.2218</td>\n",
              "      <td>2.1033</td>\n",
              "      <td>1.4485</td>\n",
              "      <td>0.4652</td>\n",
              "      <td>0.1390</td>\n",
              "      <td>0.1338</td>\n",
              "      <td>0.079</td>\n",
              "    </tr>\n",
              "    <tr>\n",
              "      <th>omp</th>\n",
              "      <td>Orthogonal Matching Pursuit</td>\n",
              "      <td>1.2301</td>\n",
              "      <td>2.2571</td>\n",
              "      <td>1.5015</td>\n",
              "      <td>0.4254</td>\n",
              "      <td>0.1414</td>\n",
              "      <td>0.1310</td>\n",
              "      <td>0.014</td>\n",
              "    </tr>\n",
              "    <tr>\n",
              "      <th>en</th>\n",
              "      <td>Elastic Net</td>\n",
              "      <td>1.2805</td>\n",
              "      <td>2.3563</td>\n",
              "      <td>1.5343</td>\n",
              "      <td>0.4003</td>\n",
              "      <td>0.1454</td>\n",
              "      <td>0.1374</td>\n",
              "      <td>0.014</td>\n",
              "    </tr>\n",
              "    <tr>\n",
              "      <th>lasso</th>\n",
              "      <td>Lasso Regression</td>\n",
              "      <td>1.3539</td>\n",
              "      <td>2.6027</td>\n",
              "      <td>1.6127</td>\n",
              "      <td>0.3376</td>\n",
              "      <td>0.1528</td>\n",
              "      <td>0.1453</td>\n",
              "      <td>0.014</td>\n",
              "    </tr>\n",
              "    <tr>\n",
              "      <th>dt</th>\n",
              "      <td>Decision Tree Regressor</td>\n",
              "      <td>1.3012</td>\n",
              "      <td>3.1949</td>\n",
              "      <td>1.7859</td>\n",
              "      <td>0.1855</td>\n",
              "      <td>0.1693</td>\n",
              "      <td>0.1389</td>\n",
              "      <td>0.025</td>\n",
              "    </tr>\n",
              "    <tr>\n",
              "      <th>llar</th>\n",
              "      <td>Lasso Least Angle Regression</td>\n",
              "      <td>1.7163</td>\n",
              "      <td>3.9558</td>\n",
              "      <td>1.9885</td>\n",
              "      <td>-0.0060</td>\n",
              "      <td>0.1926</td>\n",
              "      <td>0.1905</td>\n",
              "      <td>0.013</td>\n",
              "    </tr>\n",
              "    <tr>\n",
              "      <th>dummy</th>\n",
              "      <td>Dummy Regressor</td>\n",
              "      <td>1.7163</td>\n",
              "      <td>3.9558</td>\n",
              "      <td>1.9885</td>\n",
              "      <td>-0.0060</td>\n",
              "      <td>0.1926</td>\n",
              "      <td>0.1905</td>\n",
              "      <td>0.010</td>\n",
              "    </tr>\n",
              "    <tr>\n",
              "      <th>par</th>\n",
              "      <td>Passive Aggressive Regressor</td>\n",
              "      <td>1.9244</td>\n",
              "      <td>6.0133</td>\n",
              "      <td>2.3650</td>\n",
              "      <td>-0.5424</td>\n",
              "      <td>0.2223</td>\n",
              "      <td>0.1960</td>\n",
              "      <td>0.014</td>\n",
              "    </tr>\n",
              "  </tbody>\n",
              "</table>\n",
              "</div>\n",
              "      <button class=\"colab-df-convert\" onclick=\"convertToInteractive('df-c302d23e-5514-47a7-8273-63e118a9189f')\"\n",
              "              title=\"Convert this dataframe to an interactive table.\"\n",
              "              style=\"display:none;\">\n",
              "        \n",
              "  <svg xmlns=\"http://www.w3.org/2000/svg\" height=\"24px\"viewBox=\"0 0 24 24\"\n",
              "       width=\"24px\">\n",
              "    <path d=\"M0 0h24v24H0V0z\" fill=\"none\"/>\n",
              "    <path d=\"M18.56 5.44l.94 2.06.94-2.06 2.06-.94-2.06-.94-.94-2.06-.94 2.06-2.06.94zm-11 1L8.5 8.5l.94-2.06 2.06-.94-2.06-.94L8.5 2.5l-.94 2.06-2.06.94zm10 10l.94 2.06.94-2.06 2.06-.94-2.06-.94-.94-2.06-.94 2.06-2.06.94z\"/><path d=\"M17.41 7.96l-1.37-1.37c-.4-.4-.92-.59-1.43-.59-.52 0-1.04.2-1.43.59L10.3 9.45l-7.72 7.72c-.78.78-.78 2.05 0 2.83L4 21.41c.39.39.9.59 1.41.59.51 0 1.02-.2 1.41-.59l7.78-7.78 2.81-2.81c.8-.78.8-2.07 0-2.86zM5.41 20L4 18.59l7.72-7.72 1.47 1.35L5.41 20z\"/>\n",
              "  </svg>\n",
              "      </button>\n",
              "      \n",
              "  <style>\n",
              "    .colab-df-container {\n",
              "      display:flex;\n",
              "      flex-wrap:wrap;\n",
              "      gap: 12px;\n",
              "    }\n",
              "\n",
              "    .colab-df-convert {\n",
              "      background-color: #E8F0FE;\n",
              "      border: none;\n",
              "      border-radius: 50%;\n",
              "      cursor: pointer;\n",
              "      display: none;\n",
              "      fill: #1967D2;\n",
              "      height: 32px;\n",
              "      padding: 0 0 0 0;\n",
              "      width: 32px;\n",
              "    }\n",
              "\n",
              "    .colab-df-convert:hover {\n",
              "      background-color: #E2EBFA;\n",
              "      box-shadow: 0px 1px 2px rgba(60, 64, 67, 0.3), 0px 1px 3px 1px rgba(60, 64, 67, 0.15);\n",
              "      fill: #174EA6;\n",
              "    }\n",
              "\n",
              "    [theme=dark] .colab-df-convert {\n",
              "      background-color: #3B4455;\n",
              "      fill: #D2E3FC;\n",
              "    }\n",
              "\n",
              "    [theme=dark] .colab-df-convert:hover {\n",
              "      background-color: #434B5C;\n",
              "      box-shadow: 0px 1px 3px 1px rgba(0, 0, 0, 0.15);\n",
              "      filter: drop-shadow(0px 1px 2px rgba(0, 0, 0, 0.3));\n",
              "      fill: #FFFFFF;\n",
              "    }\n",
              "  </style>\n",
              "\n",
              "      <script>\n",
              "        const buttonEl =\n",
              "          document.querySelector('#df-c302d23e-5514-47a7-8273-63e118a9189f button.colab-df-convert');\n",
              "        buttonEl.style.display =\n",
              "          google.colab.kernel.accessAllowed ? 'block' : 'none';\n",
              "\n",
              "        async function convertToInteractive(key) {\n",
              "          const element = document.querySelector('#df-c302d23e-5514-47a7-8273-63e118a9189f');\n",
              "          const dataTable =\n",
              "            await google.colab.kernel.invokeFunction('convertToInteractive',\n",
              "                                                     [key], {});\n",
              "          if (!dataTable) return;\n",
              "\n",
              "          const docLinkHtml = 'Like what you see? Visit the ' +\n",
              "            '<a target=\"_blank\" href=https://colab.research.google.com/notebooks/data_table.ipynb>data table notebook</a>'\n",
              "            + ' to learn more about interactive tables.';\n",
              "          element.innerHTML = '';\n",
              "          dataTable['output_type'] = 'display_data';\n",
              "          await google.colab.output.renderOutput(dataTable, element);\n",
              "          const docLink = document.createElement('div');\n",
              "          docLink.innerHTML = docLinkHtml;\n",
              "          element.appendChild(docLink);\n",
              "        }\n",
              "      </script>\n",
              "    </div>\n",
              "  </div>\n",
              "  "
            ],
            "text/plain": [
              "                                    Model     MAE     MSE    RMSE      R2  \\\n",
              "gbr           Gradient Boosting Regressor  1.0336  1.6952  1.3005  0.5688   \n",
              "lightgbm  Light Gradient Boosting Machine  1.0433  1.7805  1.3323  0.5470   \n",
              "rf                Random Forest Regressor  1.0527  1.7919  1.3370  0.5440   \n",
              "lr                      Linear Regression  1.0933  1.8425  1.3564  0.5313   \n",
              "lar                Least Angle Regression  1.0933  1.8425  1.3564  0.5313   \n",
              "br                         Bayesian Ridge  1.0939  1.8439  1.3570  0.5310   \n",
              "et                  Extra Trees Regressor  1.0667  1.8431  1.3559  0.5309   \n",
              "ridge                    Ridge Regression  1.0943  1.8449  1.3573  0.5307   \n",
              "huber                     Huber Regressor  1.0765  1.8703  1.3667  0.5241   \n",
              "knn                 K Neighbors Regressor  1.0687  1.9095  1.3801  0.5132   \n",
              "ada                    AdaBoost Regressor  1.2218  2.1033  1.4485  0.4652   \n",
              "omp           Orthogonal Matching Pursuit  1.2301  2.2571  1.5015  0.4254   \n",
              "en                            Elastic Net  1.2805  2.3563  1.5343  0.4003   \n",
              "lasso                    Lasso Regression  1.3539  2.6027  1.6127  0.3376   \n",
              "dt                Decision Tree Regressor  1.3012  3.1949  1.7859  0.1855   \n",
              "llar         Lasso Least Angle Regression  1.7163  3.9558  1.9885 -0.0060   \n",
              "dummy                     Dummy Regressor  1.7163  3.9558  1.9885 -0.0060   \n",
              "par          Passive Aggressive Regressor  1.9244  6.0133  2.3650 -0.5424   \n",
              "\n",
              "           RMSLE    MAPE  TT (Sec)  \n",
              "gbr       0.1225  0.1098     0.286  \n",
              "lightgbm  0.1255  0.1107     0.116  \n",
              "rf        0.1261  0.1118     1.027  \n",
              "lr        0.1286  0.1170     0.287  \n",
              "lar       0.1286  0.1170     0.014  \n",
              "br        0.1287  0.1171     0.013  \n",
              "et        0.1279  0.1133     0.699  \n",
              "ridge     0.1287  0.1171     0.012  \n",
              "huber     0.1283  0.1130     0.063  \n",
              "knn       0.1301  0.1132     0.063  \n",
              "ada       0.1390  0.1338     0.079  \n",
              "omp       0.1414  0.1310     0.014  \n",
              "en        0.1454  0.1374     0.014  \n",
              "lasso     0.1528  0.1453     0.014  \n",
              "dt        0.1693  0.1389     0.025  \n",
              "llar      0.1926  0.1905     0.013  \n",
              "dummy     0.1926  0.1905     0.010  \n",
              "par       0.2223  0.1960     0.014  "
            ]
          },
          "metadata": {}
        }
      ]
    },
    {
      "cell_type": "code",
      "source": [
        "from sklearn.ensemble import GradientBoostingRegressor\n",
        "from sklearn.model_selection import train_test_split, GridSearchCV\n",
        "from sklearn.metrics import mean_absolute_error, mean_squared_error, r2_score"
      ],
      "metadata": {
        "id": "BpjCeuZgAxaS"
      },
      "execution_count": 22,
      "outputs": []
    },
    {
      "cell_type": "code",
      "source": [
        "X_data = df.iloc[:, :-1].to_numpy()\n",
        "Y_data = df.iloc[:, -1].to_numpy()"
      ],
      "metadata": {
        "id": "HurV67q5WHHs"
      },
      "execution_count": 23,
      "outputs": []
    },
    {
      "cell_type": "code",
      "source": [
        "execution_number = 10"
      ],
      "metadata": {
        "id": "GhwVYty5udia"
      },
      "execution_count": 24,
      "outputs": []
    },
    {
      "cell_type": "code",
      "source": [
        "def train_and_evaluate(model_class, tunning=None, pram_grid=None):    \n",
        "    metrics = {\n",
        "        'MSE': [],\n",
        "        'R2': []\n",
        "    }\n",
        "\n",
        "    for step in range(execution_number):\n",
        "        x_train, x_test, y_train, y_test = train_test_split(X_data, Y_data)\n",
        "        model = model_class()\n",
        "\n",
        "        if tunning:\n",
        "            model = GridSearchCV(estimator=model,\n",
        "                                 param_grid=param_grid, \n",
        "                                 cv=10,\n",
        "                                 n_jobs=30,\n",
        "                                 scoring=['neg_mean_squared_error', 'r2'],\n",
        "                                 refit=\"r2\",\n",
        "                                 verbose=True)\n",
        "   \n",
        "        model.fit(x_train, y_train)\n",
        "        y_pred = model.predict(x_test)\n",
        "\n",
        "        mae = mean_squared_error(y_test, y_pred)\n",
        "        r2 = r2_score(y_test, y_pred)\n",
        "\n",
        "        metrics['MSE'].append(mae)\n",
        "        metrics['R2'].append(r2)\n",
        "    \n",
        "    print(model_class.__name__)\n",
        "    print(f'MSE: {np.mean(metrics[\"MSE\"])}')\n",
        "    print(f'R2: {np.mean(metrics[\"R2\"])}')\n",
        "    print('------------------------------')"
      ],
      "metadata": {
        "id": "mycx-sp3Ub6Q"
      },
      "execution_count": 29,
      "outputs": []
    },
    {
      "cell_type": "markdown",
      "source": [
        "###__Running Without Tunning__"
      ],
      "metadata": {
        "id": "1UqKt-jJJLWn"
      }
    },
    {
      "cell_type": "code",
      "source": [
        "for model in best_models:\n",
        "    train_and_evaluate(model.__class__)"
      ],
      "metadata": {
        "colab": {
          "base_uri": "https://localhost:8080/"
        },
        "id": "MV6KkwmyJo5k",
        "outputId": "35ee2a45-b420-4f05-9a26-5e2dd0dc08d5"
      },
      "execution_count": 30,
      "outputs": [
        {
          "output_type": "stream",
          "name": "stdout",
          "text": [
            "GradientBoostingRegressor\n",
            "MSE: 1.6738945032261519\n",
            "R2: 0.5788595074613541\n",
            "------------------------------\n",
            "LGBMRegressor\n",
            "MSE: 1.7643470834054291\n",
            "R2: 0.5521385168230933\n",
            "------------------------------\n"
          ]
        }
      ]
    },
    {
      "cell_type": "markdown",
      "source": [
        "###__Running With Tunning__"
      ],
      "metadata": {
        "id": "N4HTVV6vcsit"
      }
    },
    {
      "cell_type": "code",
      "source": [
        "param_grid = {\n",
        "    'loss': ['squared_error', 'huber', 'ls'],\n",
        "    'learning_rate': [0.001, 0.01, 0.1],\n",
        "    #'n_estimators': [50, 100, 150],\n",
        "    #'criterion': ['friedman_mse', 'mse'],\n",
        "    'max_depth': [3, 6, 9],\n",
        "    #'alpha': [0.5, 0.7, 0.9]\n",
        "}"
      ],
      "metadata": {
        "id": "wk2N5DCJIvNB"
      },
      "execution_count": 31,
      "outputs": []
    },
    {
      "cell_type": "code",
      "source": [
        "for model in best_models:\n",
        "    train_and_evaluate(model.__class__, True, param_grid)"
      ],
      "metadata": {
        "colab": {
          "base_uri": "https://localhost:8080/"
        },
        "id": "N5tCfG3qlWeL",
        "outputId": "aa6b15dd-eb10-4de0-ec70-77ed2816b317"
      },
      "execution_count": 32,
      "outputs": [
        {
          "output_type": "stream",
          "name": "stdout",
          "text": [
            "Fitting 10 folds for each of 27 candidates, totalling 270 fits\n"
          ]
        },
        {
          "output_type": "stream",
          "name": "stderr",
          "text": [
            "[Parallel(n_jobs=30)]: Using backend LokyBackend with 30 concurrent workers.\n",
            "[Parallel(n_jobs=30)]: Done 140 tasks      | elapsed:  2.2min\n",
            "[Parallel(n_jobs=30)]: Done 270 out of 270 | elapsed:  4.4min finished\n"
          ]
        },
        {
          "output_type": "stream",
          "name": "stdout",
          "text": [
            "Fitting 10 folds for each of 27 candidates, totalling 270 fits\n"
          ]
        },
        {
          "output_type": "stream",
          "name": "stderr",
          "text": [
            "[Parallel(n_jobs=30)]: Using backend LokyBackend with 30 concurrent workers.\n",
            "[Parallel(n_jobs=30)]: Done 197 tasks      | elapsed:  2.2min\n",
            "[Parallel(n_jobs=30)]: Done 211 out of 270 | elapsed:  2.8min remaining:   46.9s\n",
            "[Parallel(n_jobs=30)]: Done 270 out of 270 | elapsed:  4.1min finished\n"
          ]
        },
        {
          "output_type": "stream",
          "name": "stdout",
          "text": [
            "Fitting 10 folds for each of 27 candidates, totalling 270 fits\n"
          ]
        },
        {
          "output_type": "stream",
          "name": "stderr",
          "text": [
            "[Parallel(n_jobs=30)]: Using backend LokyBackend with 30 concurrent workers.\n",
            "[Parallel(n_jobs=30)]: Done 197 tasks      | elapsed:  2.2min\n",
            "[Parallel(n_jobs=30)]: Done 211 out of 270 | elapsed:  2.8min remaining:   47.4s\n",
            "[Parallel(n_jobs=30)]: Done 270 out of 270 | elapsed:  4.1min finished\n"
          ]
        },
        {
          "output_type": "stream",
          "name": "stdout",
          "text": [
            "Fitting 10 folds for each of 27 candidates, totalling 270 fits\n"
          ]
        },
        {
          "output_type": "stream",
          "name": "stderr",
          "text": [
            "[Parallel(n_jobs=30)]: Using backend LokyBackend with 30 concurrent workers.\n",
            "[Parallel(n_jobs=30)]: Done 196 tasks      | elapsed:  2.2min\n",
            "[Parallel(n_jobs=30)]: Done 211 out of 270 | elapsed:  2.8min remaining:   47.7s\n",
            "[Parallel(n_jobs=30)]: Done 270 out of 270 | elapsed:  4.2min finished\n"
          ]
        },
        {
          "output_type": "stream",
          "name": "stdout",
          "text": [
            "Fitting 10 folds for each of 27 candidates, totalling 270 fits\n"
          ]
        },
        {
          "output_type": "stream",
          "name": "stderr",
          "text": [
            "[Parallel(n_jobs=30)]: Using backend LokyBackend with 30 concurrent workers.\n",
            "[Parallel(n_jobs=30)]: Done 198 tasks      | elapsed:  2.2min\n",
            "[Parallel(n_jobs=30)]: Done 211 out of 270 | elapsed:  2.8min remaining:   47.0s\n",
            "[Parallel(n_jobs=30)]: Done 270 out of 270 | elapsed:  4.2min finished\n"
          ]
        },
        {
          "output_type": "stream",
          "name": "stdout",
          "text": [
            "Fitting 10 folds for each of 27 candidates, totalling 270 fits\n"
          ]
        },
        {
          "output_type": "stream",
          "name": "stderr",
          "text": [
            "[Parallel(n_jobs=30)]: Using backend LokyBackend with 30 concurrent workers.\n",
            "[Parallel(n_jobs=30)]: Done 196 tasks      | elapsed:  2.3min\n",
            "[Parallel(n_jobs=30)]: Done 211 out of 270 | elapsed:  2.8min remaining:   46.3s\n",
            "[Parallel(n_jobs=30)]: Done 270 out of 270 | elapsed:  4.2min finished\n"
          ]
        },
        {
          "output_type": "stream",
          "name": "stdout",
          "text": [
            "Fitting 10 folds for each of 27 candidates, totalling 270 fits\n"
          ]
        },
        {
          "output_type": "stream",
          "name": "stderr",
          "text": [
            "[Parallel(n_jobs=30)]: Using backend LokyBackend with 30 concurrent workers.\n",
            "[Parallel(n_jobs=30)]: Done 196 tasks      | elapsed:  2.3min\n",
            "[Parallel(n_jobs=30)]: Done 211 out of 270 | elapsed:  2.9min remaining:   48.0s\n",
            "[Parallel(n_jobs=30)]: Done 270 out of 270 | elapsed:  4.2min finished\n"
          ]
        },
        {
          "output_type": "stream",
          "name": "stdout",
          "text": [
            "Fitting 10 folds for each of 27 candidates, totalling 270 fits\n"
          ]
        },
        {
          "output_type": "stream",
          "name": "stderr",
          "text": [
            "[Parallel(n_jobs=30)]: Using backend LokyBackend with 30 concurrent workers.\n",
            "[Parallel(n_jobs=30)]: Done 195 tasks      | elapsed:  2.1min\n",
            "[Parallel(n_jobs=30)]: Done 211 out of 270 | elapsed:  2.8min remaining:   46.4s\n",
            "[Parallel(n_jobs=30)]: Done 270 out of 270 | elapsed:  4.1min finished\n"
          ]
        },
        {
          "output_type": "stream",
          "name": "stdout",
          "text": [
            "Fitting 10 folds for each of 27 candidates, totalling 270 fits\n"
          ]
        },
        {
          "output_type": "stream",
          "name": "stderr",
          "text": [
            "[Parallel(n_jobs=30)]: Using backend LokyBackend with 30 concurrent workers.\n",
            "[Parallel(n_jobs=30)]: Done 195 tasks      | elapsed:  2.1min\n",
            "[Parallel(n_jobs=30)]: Done 211 out of 270 | elapsed:  2.8min remaining:   46.9s\n",
            "[Parallel(n_jobs=30)]: Done 270 out of 270 | elapsed:  4.1min finished\n"
          ]
        },
        {
          "output_type": "stream",
          "name": "stdout",
          "text": [
            "Fitting 10 folds for each of 27 candidates, totalling 270 fits\n"
          ]
        },
        {
          "output_type": "stream",
          "name": "stderr",
          "text": [
            "[Parallel(n_jobs=30)]: Using backend LokyBackend with 30 concurrent workers.\n",
            "[Parallel(n_jobs=30)]: Done 195 tasks      | elapsed:  2.2min\n",
            "[Parallel(n_jobs=30)]: Done 211 out of 270 | elapsed:  2.8min remaining:   47.2s\n",
            "[Parallel(n_jobs=30)]: Done 270 out of 270 | elapsed:  4.2min finished\n"
          ]
        },
        {
          "output_type": "stream",
          "name": "stdout",
          "text": [
            "GradientBoostingRegressor\n",
            "MSE: 1.6938837903900683\n",
            "R2: 0.5690475792594618\n",
            "------------------------------\n",
            "Fitting 10 folds for each of 27 candidates, totalling 270 fits\n"
          ]
        },
        {
          "output_type": "stream",
          "name": "stderr",
          "text": [
            "[Parallel(n_jobs=30)]: Using backend LokyBackend with 30 concurrent workers.\n",
            "[Parallel(n_jobs=30)]: Done 140 tasks      | elapsed:   22.8s\n",
            "[Parallel(n_jobs=30)]: Done 270 out of 270 | elapsed:   29.6s finished\n",
            "[Parallel(n_jobs=30)]: Using backend LokyBackend with 30 concurrent workers.\n"
          ]
        },
        {
          "output_type": "stream",
          "name": "stdout",
          "text": [
            "Fitting 10 folds for each of 27 candidates, totalling 270 fits\n"
          ]
        },
        {
          "output_type": "stream",
          "name": "stderr",
          "text": [
            "[Parallel(n_jobs=30)]: Done 140 tasks      | elapsed:    9.6s\n",
            "[Parallel(n_jobs=30)]: Done 270 out of 270 | elapsed:   16.0s finished\n",
            "[Parallel(n_jobs=30)]: Using backend LokyBackend with 30 concurrent workers.\n"
          ]
        },
        {
          "output_type": "stream",
          "name": "stdout",
          "text": [
            "Fitting 10 folds for each of 27 candidates, totalling 270 fits\n"
          ]
        },
        {
          "output_type": "stream",
          "name": "stderr",
          "text": [
            "[Parallel(n_jobs=30)]: Done 190 tasks      | elapsed:   12.7s\n",
            "[Parallel(n_jobs=30)]: Done 211 out of 270 | elapsed:   13.5s remaining:    3.8s\n",
            "[Parallel(n_jobs=30)]: Done 270 out of 270 | elapsed:   15.8s finished\n",
            "[Parallel(n_jobs=30)]: Using backend LokyBackend with 30 concurrent workers.\n"
          ]
        },
        {
          "output_type": "stream",
          "name": "stdout",
          "text": [
            "Fitting 10 folds for each of 27 candidates, totalling 270 fits\n"
          ]
        },
        {
          "output_type": "stream",
          "name": "stderr",
          "text": [
            "[Parallel(n_jobs=30)]: Done 191 tasks      | elapsed:   12.8s\n",
            "[Parallel(n_jobs=30)]: Done 211 out of 270 | elapsed:   13.6s remaining:    3.8s\n",
            "[Parallel(n_jobs=30)]: Done 270 out of 270 | elapsed:   15.9s finished\n",
            "[Parallel(n_jobs=30)]: Using backend LokyBackend with 30 concurrent workers.\n"
          ]
        },
        {
          "output_type": "stream",
          "name": "stdout",
          "text": [
            "Fitting 10 folds for each of 27 candidates, totalling 270 fits\n"
          ]
        },
        {
          "output_type": "stream",
          "name": "stderr",
          "text": [
            "[Parallel(n_jobs=30)]: Done 192 tasks      | elapsed:   12.7s\n",
            "[Parallel(n_jobs=30)]: Done 211 out of 270 | elapsed:   13.3s remaining:    3.7s\n",
            "[Parallel(n_jobs=30)]: Done 270 out of 270 | elapsed:   15.8s finished\n",
            "[Parallel(n_jobs=30)]: Using backend LokyBackend with 30 concurrent workers.\n"
          ]
        },
        {
          "output_type": "stream",
          "name": "stdout",
          "text": [
            "Fitting 10 folds for each of 27 candidates, totalling 270 fits\n"
          ]
        },
        {
          "output_type": "stream",
          "name": "stderr",
          "text": [
            "[Parallel(n_jobs=30)]: Done 191 tasks      | elapsed:   12.8s\n",
            "[Parallel(n_jobs=30)]: Done 270 out of 270 | elapsed:   15.9s finished\n",
            "[Parallel(n_jobs=30)]: Using backend LokyBackend with 30 concurrent workers.\n"
          ]
        },
        {
          "output_type": "stream",
          "name": "stdout",
          "text": [
            "Fitting 10 folds for each of 27 candidates, totalling 270 fits\n"
          ]
        },
        {
          "output_type": "stream",
          "name": "stderr",
          "text": [
            "[Parallel(n_jobs=30)]: Done 140 tasks      | elapsed:    9.6s\n",
            "[Parallel(n_jobs=30)]: Done 270 out of 270 | elapsed:   16.0s finished\n",
            "[Parallel(n_jobs=30)]: Using backend LokyBackend with 30 concurrent workers.\n"
          ]
        },
        {
          "output_type": "stream",
          "name": "stdout",
          "text": [
            "Fitting 10 folds for each of 27 candidates, totalling 270 fits\n"
          ]
        },
        {
          "output_type": "stream",
          "name": "stderr",
          "text": [
            "[Parallel(n_jobs=30)]: Done 191 tasks      | elapsed:   12.9s\n",
            "[Parallel(n_jobs=30)]: Done 211 out of 270 | elapsed:   13.6s remaining:    3.8s\n",
            "[Parallel(n_jobs=30)]: Done 270 out of 270 | elapsed:   15.9s finished\n",
            "[Parallel(n_jobs=30)]: Using backend LokyBackend with 30 concurrent workers.\n"
          ]
        },
        {
          "output_type": "stream",
          "name": "stdout",
          "text": [
            "Fitting 10 folds for each of 27 candidates, totalling 270 fits\n"
          ]
        },
        {
          "output_type": "stream",
          "name": "stderr",
          "text": [
            "[Parallel(n_jobs=30)]: Done 190 tasks      | elapsed:   12.8s\n",
            "[Parallel(n_jobs=30)]: Done 270 out of 270 | elapsed:   15.8s finished\n",
            "[Parallel(n_jobs=30)]: Using backend LokyBackend with 30 concurrent workers.\n"
          ]
        },
        {
          "output_type": "stream",
          "name": "stdout",
          "text": [
            "Fitting 10 folds for each of 27 candidates, totalling 270 fits\n"
          ]
        },
        {
          "output_type": "stream",
          "name": "stderr",
          "text": [
            "[Parallel(n_jobs=30)]: Done 140 tasks      | elapsed:    9.7s\n"
          ]
        },
        {
          "output_type": "stream",
          "name": "stdout",
          "text": [
            "LGBMRegressor\n",
            "MSE: 1.6844201529227192\n",
            "R2: 0.5745751973458277\n",
            "------------------------------\n"
          ]
        },
        {
          "output_type": "stream",
          "name": "stderr",
          "text": [
            "[Parallel(n_jobs=30)]: Done 270 out of 270 | elapsed:   16.1s finished\n"
          ]
        }
      ]
    },
    {
      "cell_type": "code",
      "source": [
        ""
      ],
      "metadata": {
        "id": "2aiEiQMTUIcl"
      },
      "execution_count": 28,
      "outputs": []
    }
  ]
}